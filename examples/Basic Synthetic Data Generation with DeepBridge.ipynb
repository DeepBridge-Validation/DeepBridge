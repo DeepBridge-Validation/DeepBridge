{
 "cells": [
  {
   "cell_type": "markdown",
   "metadata": {},
   "source": [
    "# Basic Synthetic Data Generation with DeepBridge\n",
    "\n",
    "This tutorial demonstrates how to generate synthetic data using the DeepBridge library. I'll walk you through creating synthetic datasets with different methods and comparing their results.\n",
    "\n",
    "## Overview\n",
    "\n",
    "In this demonstration, we'll:\n",
    "1. Create a sample dataset with mixed data types\n",
    "2. Generate synthetic versions using three different methods:\n",
    "   - Gaussian Copula\n",
    "   - CTGAN (Conditional Tabular GAN)\n",
    "   - UltraLight Generator\n",
    "3. Evaluate and compare the quality of each method\n",
    "4. Visualize the differences between original and synthetic data\n",
    "\n",
    "## Understanding the Different Methods\n",
    "\n",
    "Each synthetic data generation method has its unique characteristics:\n",
    "\n",
    "### Gaussian Copula\n",
    "- Statistical method that preserves the marginal distributions and correlations between features\n",
    "- Good balance between quality and computational efficiency\n",
    "- Works well for numerical data with linear relationships\n",
    "- Medium memory requirements\n",
    "\n",
    "### CTGAN (Conditional Tabular GAN)\n",
    "- Neural network-based approach using Generative Adversarial Networks\n",
    "- Can capture complex, non-linear relationships in the data\n",
    "- Highest quality for capturing complex patterns\n",
    "- More computationally intensive and requires more memory\n",
    "- Longer training time\n",
    "\n",
    "### UltraLight Generator\n",
    "- Simplest and fastest approach with minimal memory requirements\n",
    "- Uses basic statistical modeling rather than complex ML models\n",
    "- Excellent for large datasets or limited computational resources\n",
    "- Quality may be lower for complex relationships\n",
    "\n",
    "## Example Implementation\n",
    "\n",
    "Let's look at the code to implement these methods:"
   ]
  },
  {
   "cell_type": "code",
   "execution_count": 1,
   "metadata": {},
   "outputs": [
    {
     "name": "stderr",
     "output_type": "stream",
     "text": [
      "/home/guhaase/projetos/deepbridge_homol/lib/python3.12/site-packages/tqdm/auto.py:21: TqdmWarning: IProgress not found. Please update jupyter and ipywidgets. See https://ipywidgets.readthedocs.io/en/stable/user_install.html\n",
      "  from .autonotebook import tqdm as notebook_tqdm\n"
     ]
    },
    {
     "name": "stdout",
     "output_type": "stream",
     "text": [
      "Carregando e preparando dados...\n",
      "Valores NaN em X antes da limpeza: 0\n",
      "Valores infinitos em X: 0\n",
      "NaN em train_df: 0\n",
      "NaN em test_df: 0\n",
      "\n",
      "Treinando modelo...\n",
      "\n",
      "Criando objeto de dataset...\n",
      "Generating robustness report to: /home/guhaase/projetos/DeepBridge/examples/report_robustness.html\n",
      "Using templates directory: /home/guhaase/projetos/DeepBridge/deepbridge/templates/reports\n",
      "Template file exists: /home/guhaase/projetos/DeepBridge/deepbridge/templates/reports/robustness/report.html\n",
      "Successfully read template file (size: 61804 bytes)\n",
      "Transforming robustness data structure...\n",
      "Found 'primary_model' key, extracting data...\n",
      "Processing alternative models data...\n",
      "Processing alternative model: DECISION_TREE\n",
      "Processing alternative model: LOGISTIC_REGRESSION\n",
      "Processing alternative model: GBM\n",
      "Report data structure after transformation:\n",
      "- primary_model: <class 'dict'>\n",
      "- alternative_models: <class 'dict'>\n",
      "- config: <class 'dict'>\n",
      "- experiment_type: <class 'str'>\n",
      "- base_score: <class 'float'>\n",
      "- raw: <class 'dict'>\n",
      "- quantile: <class 'dict'>\n",
      "- feature_importance: <class 'dict'>\n",
      "- feature_subset: <class 'list'>\n",
      "- avg_raw_impact: <class 'float'>\n",
      "- avg_quantile_impact: <class 'float'>\n",
      "- avg_overall_impact: <class 'float'>\n",
      "- n_iterations: <class 'int'>\n",
      "- metrics: <class 'dict'>\n",
      "- model_name: <class 'str'>\n",
      "- timestamp: <class 'str'>\n",
      "- model_type: <class 'str'>\n",
      "- metric: <class 'str'>\n",
      "- robustness_score: <class 'float'>\n",
      "- raw_impact: <class 'float'>\n",
      "- quantile_impact: <class 'float'>\n",
      "- iterations: <class 'int'>\n",
      "- feature_subset_display: <class 'str'>\n",
      "JSON data serialized successfully (size: 155070 bytes)\n",
      "Rendering template...\n",
      "Template rendered successfully (size: 216658 bytes)\n",
      "Output directory created/verified: /home/guhaase/projetos/DeepBridge/examples\n",
      "Report saved successfully to: /home/guhaase/projetos/DeepBridge/examples/report_robustness.html\n"
     ]
    },
    {
     "data": {
      "text/plain": [
       "'/home/guhaase/projetos/DeepBridge/examples/report_robustness.html'"
      ]
     },
     "execution_count": 1,
     "metadata": {},
     "output_type": "execute_result"
    }
   ],
   "source": [
    "import pandas as pd\n",
    "import numpy as np\n",
    "from sklearn.datasets import load_breast_cancer\n",
    "from sklearn.model_selection import train_test_split\n",
    "from sklearn.ensemble import RandomForestClassifier\n",
    "from sklearn.impute import SimpleImputer\n",
    "\n",
    "\n",
    "import sys\n",
    "import os\n",
    "\n",
    "sys.path.append(os.path.expanduser(\"~/projetos/DeepBridge\"))\n",
    "\n",
    "\n",
    "\n",
    "\n",
    "from deepbridge.core.db_data import DBDataset\n",
    "from deepbridge.synthetic import Synthesize\n",
    "from deepbridge.core.experiment import Experiment\n",
    "\n",
    "\n",
    "from deepbridge.validation.wrappers import (\n",
    "    RobustnessSuite, UncertaintySuite, \n",
    ")\n",
    "\n",
    "from deepbridge.utils.robustness import run_robustness_tests\n",
    "from deepbridge.utils.uncertainty import run_uncertainty_tests\n",
    "from deepbridge.utils.resilience import run_resilience_tests\n",
    "from deepbridge.utils.hyperparameter import run_hyperparameter_tests\n",
    "#---------------------------------------------------------\n",
    "# Preparação de dados com cuidado especial \n",
    "#---------------------------------------------------------\n",
    "print(\"Carregando e preparando dados...\")\n",
    "\n",
    "from sklearn.model_selection import train_test_split\n",
    "from sklearn.ensemble import RandomForestClassifier\n",
    "from sklearn.datasets import make_classification\n",
    "\n",
    "# Gerar dados sintéticos com duas classes\n",
    "X, y = make_classification(n_samples=10000, n_features=20, n_classes=2, random_state=42)\n",
    "X = pd.DataFrame(X, columns=[f\"feature_{i}\" for i in range(20)])\n",
    "y = pd.Series(y)\n",
    "\n",
    "# Verificar e lidar com valores ausentes\n",
    "print(f\"Valores NaN em X antes da limpeza: {X.isna().sum().sum()}\")\n",
    "print(f\"Valores infinitos em X: {np.isinf(X.values).sum()}\")\n",
    "\n",
    "# Resetar índices para garantir alinhamento limpo\n",
    "X = X.reset_index(drop=True)\n",
    "y = y.reset_index(drop=True)\n",
    "\n",
    "# Dividir dados\n",
    "X_train, X_test, y_train, y_test = train_test_split(X, y, test_size=0.3, random_state=42)\n",
    "\n",
    "# Resetar índices novamente após a divisão\n",
    "X_train = X_train.reset_index(drop=True)\n",
    "X_test = X_test.reset_index(drop=True)\n",
    "y_train = y_train.reset_index(drop=True)\n",
    "y_test = y_test.reset_index(drop=True)\n",
    "\n",
    "# Criar DataFrames de treino e teste com nomes explícitos de colunas\n",
    "train_df = X_train.copy()\n",
    "train_df['target'] = y_train\n",
    "test_df = X_test.copy()\n",
    "test_df['target'] = y_test\n",
    "\n",
    "# Verificação final\n",
    "print(f\"NaN em train_df: {train_df.isna().sum().sum()}\")\n",
    "print(f\"NaN em test_df: {test_df.isna().sum().sum()}\")\n",
    "\n",
    "# Treinar modelo\n",
    "print(\"\\nTreinando modelo...\")\n",
    "model = RandomForestClassifier(n_estimators=100, random_state=42)\n",
    "model.fit(X_train, y_train)\n",
    "\n",
    "\n",
    "# Criar objeto de dataset\n",
    "print(\"\\nCriando objeto de dataset...\")\n",
    "dataset = DBDataset(\n",
    "    train_data=train_df,\n",
    "    test_data=test_df,\n",
    "    target_column='target',\n",
    "    model=model\n",
    ")\n",
    "\n",
    "\n",
    "# Criar e executar o experimento\n",
    "experiment = Experiment(\n",
    "      dataset=dataset,\n",
    "      experiment_type=\"binary_classification\",\n",
    "      tests=[\"robustness\"],\n",
    "      feature_subset=['feature_0', 'feature_1']\n",
    "  )\n",
    "\n",
    "results = experiment.run_tests(\"full\")\n",
    "\n",
    "\n",
    "results.save_html(\"robustness\", \"report_robustness.html\")\n",
    "# results.save_html(\"uncertainty\", \"report_uncertainty.html\")\n",
    "# results.save_html(\"resilience\", \"report_resilience.html\")\n",
    "# results.save_html(\"hyperparameter\", \"report_hyperparameter.html\")"
   ]
  },
  {
   "cell_type": "code",
   "execution_count": 2,
   "metadata": {},
   "outputs": [
    {
     "ename": "ValueError",
     "evalue": "No uncertainty test results found. Run the test first.",
     "output_type": "error",
     "traceback": [
      "\u001b[0;31m---------------------------------------------------------------------------\u001b[0m",
      "\u001b[0;31mValueError\u001b[0m                                Traceback (most recent call last)",
      "Cell \u001b[0;32mIn[2], line 1\u001b[0m\n\u001b[0;32m----> 1\u001b[0m \u001b[43mresults\u001b[49m\u001b[38;5;241;43m.\u001b[39;49m\u001b[43msave_html\u001b[49m\u001b[43m(\u001b[49m\u001b[38;5;124;43m\"\u001b[39;49m\u001b[38;5;124;43muncertainty\u001b[39;49m\u001b[38;5;124;43m\"\u001b[39;49m\u001b[43m,\u001b[49m\u001b[43m \u001b[49m\u001b[38;5;124;43m\"\u001b[39;49m\u001b[38;5;124;43mreport_uncertainty.html\u001b[39;49m\u001b[38;5;124;43m\"\u001b[39;49m\u001b[43m)\u001b[49m\n\u001b[1;32m      2\u001b[0m results\u001b[38;5;241m.\u001b[39msave_html(\u001b[38;5;124m\"\u001b[39m\u001b[38;5;124mresilience\u001b[39m\u001b[38;5;124m\"\u001b[39m, \u001b[38;5;124m\"\u001b[39m\u001b[38;5;124mreport_resilience.html\u001b[39m\u001b[38;5;124m\"\u001b[39m)\n",
      "File \u001b[0;32m~/projetos/DeepBridge/deepbridge/core/experiment/results.py:135\u001b[0m, in \u001b[0;36mExperimentResult.save_html\u001b[0;34m(self, test_type, file_path, model_name)\u001b[0m\n\u001b[1;32m    133\u001b[0m result \u001b[38;5;241m=\u001b[39m \u001b[38;5;28mself\u001b[39m\u001b[38;5;241m.\u001b[39mresults\u001b[38;5;241m.\u001b[39mget(test_type)\n\u001b[1;32m    134\u001b[0m \u001b[38;5;28;01mif\u001b[39;00m \u001b[38;5;129;01mnot\u001b[39;00m result:\n\u001b[0;32m--> 135\u001b[0m     \u001b[38;5;28;01mraise\u001b[39;00m \u001b[38;5;167;01mValueError\u001b[39;00m(\u001b[38;5;124mf\u001b[39m\u001b[38;5;124m\"\u001b[39m\u001b[38;5;124mNo \u001b[39m\u001b[38;5;132;01m{\u001b[39;00mtest_type\u001b[38;5;132;01m}\u001b[39;00m\u001b[38;5;124m test results found. Run the test first.\u001b[39m\u001b[38;5;124m\"\u001b[39m)\n\u001b[1;32m    137\u001b[0m \u001b[38;5;66;03m# Initialize report manager\u001b[39;00m\n\u001b[1;32m    138\u001b[0m report_manager \u001b[38;5;241m=\u001b[39m ReportManager()\n",
      "\u001b[0;31mValueError\u001b[0m: No uncertainty test results found. Run the test first."
     ]
    }
   ],
   "source": [
    "results.save_html(\"uncertainty\", \"report_uncertainty.html\")\n",
    "results.save_html(\"resilience\", \"report_resilience.html\")"
   ]
  },
  {
   "cell_type": "code",
   "execution_count": null,
   "metadata": {},
   "outputs": [],
   "source": [
    "results.results['resilience'].results"
   ]
  },
  {
   "cell_type": "code",
   "execution_count": null,
   "metadata": {},
   "outputs": [],
   "source": []
  },
  {
   "cell_type": "code",
   "execution_count": null,
   "metadata": {},
   "outputs": [],
   "source": [
    "experiment.initial_results"
   ]
  },
  {
   "cell_type": "code",
   "execution_count": null,
   "metadata": {},
   "outputs": [],
   "source": [
    "experiment.test_results['robustness']['primary_model']['raw']['by_level'].keys()"
   ]
  },
  {
   "cell_type": "code",
   "execution_count": null,
   "metadata": {},
   "outputs": [],
   "source": [
    "results.results['robustness']"
   ]
  }
 ],
 "metadata": {
  "kernelspec": {
   "display_name": "deepbridge_homol",
   "language": "python",
   "name": "python3"
  },
  "language_info": {
   "codemirror_mode": {
    "name": "ipython",
    "version": 3
   },
   "file_extension": ".py",
   "mimetype": "text/x-python",
   "name": "python",
   "nbconvert_exporter": "python",
   "pygments_lexer": "ipython3",
   "version": "3.12.5"
  }
 },
 "nbformat": 4,
 "nbformat_minor": 4
}
