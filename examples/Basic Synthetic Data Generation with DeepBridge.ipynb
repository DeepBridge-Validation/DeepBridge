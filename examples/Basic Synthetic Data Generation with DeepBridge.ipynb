{
 "cells": [
  {
   "cell_type": "markdown",
   "metadata": {},
   "source": [
    "# Basic Synthetic Data Generation with DeepBridge\n",
    "\n",
    "This tutorial demonstrates how to generate synthetic data using the DeepBridge library. I'll walk you through creating synthetic datasets with different methods and comparing their results.\n",
    "\n",
    "## Overview\n",
    "\n",
    "In this demonstration, we'll:\n",
    "1. Create a sample dataset with mixed data types\n",
    "2. Generate synthetic versions using three different methods:\n",
    "   - Gaussian Copula\n",
    "   - CTGAN (Conditional Tabular GAN)\n",
    "   - UltraLight Generator\n",
    "3. Evaluate and compare the quality of each method\n",
    "4. Visualize the differences between original and synthetic data\n",
    "\n",
    "## Understanding the Different Methods\n",
    "\n",
    "Each synthetic data generation method has its unique characteristics:\n",
    "\n",
    "### Gaussian Copula\n",
    "- Statistical method that preserves the marginal distributions and correlations between features\n",
    "- Good balance between quality and computational efficiency\n",
    "- Works well for numerical data with linear relationships\n",
    "- Medium memory requirements\n",
    "\n",
    "### CTGAN (Conditional Tabular GAN)\n",
    "- Neural network-based approach using Generative Adversarial Networks\n",
    "- Can capture complex, non-linear relationships in the data\n",
    "- Highest quality for capturing complex patterns\n",
    "- More computationally intensive and requires more memory\n",
    "- Longer training time\n",
    "\n",
    "### UltraLight Generator\n",
    "- Simplest and fastest approach with minimal memory requirements\n",
    "- Uses basic statistical modeling rather than complex ML models\n",
    "- Excellent for large datasets or limited computational resources\n",
    "- Quality may be lower for complex relationships\n",
    "\n",
    "## Example Implementation\n",
    "\n",
    "Let's look at the code to implement these methods:"
   ]
  },
  {
   "cell_type": "code",
   "execution_count": null,
   "metadata": {},
   "outputs": [],
   "source": []
  },
  {
   "cell_type": "code",
   "execution_count": 1,
   "metadata": {},
   "outputs": [],
   "source": [
    "# pip install deepbridge --upgrade\n"
   ]
  },
  {
   "cell_type": "code",
   "execution_count": null,
   "metadata": {},
   "outputs": [
    {
     "name": "stdout",
     "output_type": "stream",
     "text": [
      "✅ Initial model evaluation complete: RandomForestClassifier\n"
     ]
    },
    {
     "ename": "TypeError",
     "evalue": "TestRunner.run_tests() got an unexpected keyword argument 'verbose'",
     "output_type": "error",
     "traceback": [
      "\u001b[0;31m---------------------------------------------------------------------------\u001b[0m",
      "\u001b[0;31mTypeError\u001b[0m                                 Traceback (most recent call last)",
      "Cell \u001b[0;32mIn[2], line 111\u001b[0m\n\u001b[1;32m    103\u001b[0m \u001b[38;5;66;03m# Criar e executar o experimento\u001b[39;00m\n\u001b[1;32m    104\u001b[0m experiment \u001b[38;5;241m=\u001b[39m Experiment(\n\u001b[1;32m    105\u001b[0m       dataset\u001b[38;5;241m=\u001b[39mdataset,\n\u001b[1;32m    106\u001b[0m       experiment_type\u001b[38;5;241m=\u001b[39m\u001b[38;5;124m\"\u001b[39m\u001b[38;5;124mbinary_classification\u001b[39m\u001b[38;5;124m\"\u001b[39m,\n\u001b[1;32m    107\u001b[0m       tests\u001b[38;5;241m=\u001b[39m[\u001b[38;5;124m\"\u001b[39m\u001b[38;5;124mrobustness\u001b[39m\u001b[38;5;124m\"\u001b[39m, \u001b[38;5;124m\"\u001b[39m\u001b[38;5;124muncertainty\u001b[39m\u001b[38;5;124m\"\u001b[39m, \u001b[38;5;124m\"\u001b[39m\u001b[38;5;124mresilience\u001b[39m\u001b[38;5;124m\"\u001b[39m],\n\u001b[1;32m    108\u001b[0m       feature_subset\u001b[38;5;241m=\u001b[39m[\u001b[38;5;124m'\u001b[39m\u001b[38;5;124mfeature_0\u001b[39m\u001b[38;5;124m'\u001b[39m, \u001b[38;5;124m'\u001b[39m\u001b[38;5;124mfeature_1\u001b[39m\u001b[38;5;124m'\u001b[39m]\n\u001b[1;32m    109\u001b[0m   )\n\u001b[0;32m--> 111\u001b[0m results \u001b[38;5;241m=\u001b[39m \u001b[43mexperiment\u001b[49m\u001b[38;5;241;43m.\u001b[39;49m\u001b[43mrun_tests\u001b[49m\u001b[43m(\u001b[49m\u001b[38;5;124;43m\"\u001b[39;49m\u001b[38;5;124;43mquick\u001b[39;49m\u001b[38;5;124;43m\"\u001b[39;49m\u001b[43m,\u001b[49m\u001b[43m \u001b[49m\u001b[43mverbose\u001b[49m\u001b[38;5;241;43m=\u001b[39;49m\u001b[38;5;28;43;01mFalse\u001b[39;49;00m\u001b[43m)\u001b[49m\n\u001b[1;32m    114\u001b[0m results\u001b[38;5;241m.\u001b[39msave_html(\u001b[38;5;124m\"\u001b[39m\u001b[38;5;124mrobustness\u001b[39m\u001b[38;5;124m\"\u001b[39m, \u001b[38;5;124m\"\u001b[39m\u001b[38;5;124mreport_robustness.html\u001b[39m\u001b[38;5;124m\"\u001b[39m)\n\u001b[1;32m    115\u001b[0m results\u001b[38;5;241m.\u001b[39msave_html(\u001b[38;5;124m\"\u001b[39m\u001b[38;5;124muncertainty\u001b[39m\u001b[38;5;124m\"\u001b[39m, \u001b[38;5;124m\"\u001b[39m\u001b[38;5;124mreport_uncertainty.html\u001b[39m\u001b[38;5;124m\"\u001b[39m)\n",
      "File \u001b[0;32m~/projetos/DeepBridge/deepbridge/core/experiment/experiment.py:416\u001b[0m, in \u001b[0;36mExperiment.run_tests\u001b[0;34m(self, config_name, **kwargs)\u001b[0m\n\u001b[1;32m    413\u001b[0m     \u001b[38;5;28mself\u001b[39m\u001b[38;5;241m.\u001b[39minitial_results \u001b[38;5;241m=\u001b[39m \u001b[38;5;28mself\u001b[39m\u001b[38;5;241m.\u001b[39mtest_runner\u001b[38;5;241m.\u001b[39mrun_initial_tests()\n\u001b[1;32m    415\u001b[0m \u001b[38;5;66;03m# Run the requested tests\u001b[39;00m\n\u001b[0;32m--> 416\u001b[0m test_results \u001b[38;5;241m=\u001b[39m \u001b[38;5;28;43mself\u001b[39;49m\u001b[38;5;241;43m.\u001b[39;49m\u001b[43mtest_runner\u001b[49m\u001b[38;5;241;43m.\u001b[39;49m\u001b[43mrun_tests\u001b[49m\u001b[43m(\u001b[49m\u001b[43mconfig_name\u001b[49m\u001b[43m,\u001b[49m\u001b[43m \u001b[49m\u001b[38;5;241;43m*\u001b[39;49m\u001b[38;5;241;43m*\u001b[39;49m\u001b[43mkwargs\u001b[49m\u001b[43m)\u001b[49m\n\u001b[1;32m    417\u001b[0m \u001b[38;5;28mself\u001b[39m\u001b[38;5;241m.\u001b[39m_test_results\u001b[38;5;241m.\u001b[39mupdate(test_results)\n\u001b[1;32m    419\u001b[0m \u001b[38;5;66;03m# Make model feature importance available in test_results for the report\u001b[39;00m\n",
      "\u001b[0;31mTypeError\u001b[0m: TestRunner.run_tests() got an unexpected keyword argument 'verbose'"
     ]
    }
   ],
   "source": [
    "import pandas as pd\n",
    "import numpy as np\n",
    "from sklearn.datasets import load_breast_cancer\n",
    "from sklearn.model_selection import train_test_split\n",
    "from sklearn.ensemble import RandomForestClassifier\n",
    "from sklearn.impute import SimpleImputer\n",
    "\n",
    "\n",
    "\n",
    "\n",
    "\n",
    "import sys\n",
    "import os\n",
    "\n",
    "sys.path.append(os.path.expanduser(\"~/projetos/DeepBridge\"))\n",
    "\n",
    "\n",
    "\n",
    "from deepbridge.core.db_data import DBDataset\n",
    "# from deepbridge.synthetic import Synthesize\n",
    "from deepbridge.core.experiment import Experiment\n",
    "\n",
    "\n",
    "# from deepbridge.validation.wrappers import (\n",
    "#     RobustnessSuite, UncertaintySuite, \n",
    "# )\n",
    "\n",
    "# from deepbridge.utils.robustness import run_robustness_tests\n",
    "# from deepbridge.utils.uncertainty import run_uncertainty_tests\n",
    "# from deepbridge.utils.resilience import run_resilience_tests\n",
    "# from deepbridge.utils.hyperparameter import run_hyperparameter_tests\n",
    "#---------------------------------------------------------\n",
    "# Preparação de dados com cuidado especial \n",
    "#---------------------------------------------------------\n",
    "\n",
    "\n",
    "from sklearn.model_selection import train_test_split\n",
    "from sklearn.ensemble import RandomForestClassifier\n",
    "from sklearn.datasets import make_classification\n",
    "\n",
    "# Gerar dados sintéticos com duas classes\n",
    "X, y = make_classification(n_samples=10000, n_features=20, n_classes=2, random_state=42)\n",
    "X = pd.DataFrame(X, columns=[f\"feature_{i}\" for i in range(20)])\n",
    "y = pd.Series(y)\n",
    "\n",
    "\n",
    "# Resetar índices para garantir alinhamento limpo\n",
    "X = X.reset_index(drop=True)\n",
    "y = y.reset_index(drop=True)\n",
    "\n",
    "# Dividir dados\n",
    "X_train, X_test, y_train, y_test = train_test_split(X, y, test_size=0.3, random_state=42)\n",
    "\n",
    "\n",
    "\n",
    "\n",
    "\n",
    "\n",
    "\n",
    "# Resetar índices novamente após a divisão\n",
    "X_train = X_train.reset_index(drop=True)\n",
    "X_test = X_test.reset_index(drop=True)\n",
    "y_train = y_train.reset_index(drop=True)\n",
    "y_test = y_test.reset_index(drop=True)\n",
    "\n",
    "\n",
    "X_train.to_parquet(\"/home/guhaase/projetos/deepbridge_prod/artefatos/X_train.parquet\")\n",
    "X_test.to_parquet(\"/home/guhaase/projetos/deepbridge_prod/artefatos/X_test.parquet\")\n",
    "y_train_df = pd.DataFrame({'target': y_train})\n",
    "y_test_df = pd.DataFrame({'target': y_test})\n",
    "y_train_df.to_parquet(\"/home/guhaase/projetos/deepbridge_prod/artefatos/y_train.parquet\")\n",
    "y_test_df.to_parquet(\"/home/guhaase/projetos/deepbridge_prod/artefatos/y_test.parquet\")\n",
    "\n",
    "\n",
    "# Criar DataFrames de treino e teste com nomes explícitos de colunas\n",
    "train_df = X_train.copy()\n",
    "train_df['target'] = y_train\n",
    "test_df = X_test.copy()\n",
    "test_df['target'] = y_test\n",
    "\n",
    "import pickle\n",
    "from sklearn.ensemble import RandomForestClassifier\n",
    "\n",
    "model = RandomForestClassifier(n_estimators=100, random_state=42)\n",
    "model.fit(X_train, y_train)\n",
    "\n",
    "with open(\"/home/guhaase/projetos/deepbridge_prod/artefatos/random_forest_model.pickle\", \"wb\") as f:\n",
    "    pickle.dump(model, f)\n",
    "\n",
    "with open(\"/home/guhaase/projetos/deepbridge_prod/artefatos/random_forest_model.pickle\", \"wb\") as f:\n",
    "    pickle.dump(model, f)\n",
    "\n",
    "# Criar objeto de dataset\n",
    "\n",
    "dataset = DBDataset(\n",
    "    train_data=train_df,\n",
    "    test_data=test_df,\n",
    "    target_column='target',\n",
    "    model=model\n",
    ")\n",
    "\n",
    "\n",
    "# Criar e executar o experimento\n",
    "experiment = Experiment(\n",
    "      dataset=dataset,\n",
    "      experiment_type=\"binary_classification\",\n",
    "      tests=[\"robustness\", \"uncertainty\", \"resilience\"],\n",
    "      feature_subset=['feature_0', 'feature_1']\n",
    "  )\n",
    "\n",
    "results = experiment.run_tests(\"quick\")\n",
    "\n",
    "\n",
    "results.save_html(\"robustness\", \"report_robustness.html\")\n",
    "results.save_html(\"uncertainty\", \"report_uncertainty.html\")\n",
    "results.save_html(\"resilience\", \"report_resilience.html\")"
   ]
  },
  {
   "cell_type": "code",
   "execution_count": null,
   "metadata": {},
   "outputs": [],
   "source": []
  },
  {
   "cell_type": "code",
   "execution_count": null,
   "metadata": {},
   "outputs": [],
   "source": [
    "experiment.initial_results"
   ]
  },
  {
   "cell_type": "code",
   "execution_count": null,
   "metadata": {},
   "outputs": [],
   "source": [
    "results."
   ]
  },
  {
   "cell_type": "code",
   "execution_count": null,
   "metadata": {},
   "outputs": [],
   "source": [
    "experiment.initial_results"
   ]
  },
  {
   "cell_type": "code",
   "execution_count": null,
   "metadata": {},
   "outputs": [],
   "source": [
    "results.results['uncertainty'].results"
   ]
  },
  {
   "cell_type": "code",
   "execution_count": null,
   "metadata": {},
   "outputs": [],
   "source": [
    "experiment.initial_results['models']['primary_model']['type']\n",
    "\n",
    "results.results['robustness'].results['primary_model']"
   ]
  }
 ],
 "metadata": {
  "kernelspec": {
   "display_name": "deepbridge_homol",
   "language": "python",
   "name": "python3"
  },
  "language_info": {
   "codemirror_mode": {
    "name": "ipython",
    "version": 3
   },
   "file_extension": ".py",
   "mimetype": "text/x-python",
   "name": "python",
   "nbconvert_exporter": "python",
   "pygments_lexer": "ipython3",
   "version": "3.12.5"
  }
 },
 "nbformat": 4,
 "nbformat_minor": 4
}
